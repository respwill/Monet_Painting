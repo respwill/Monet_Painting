{
 "cells": [
  {
   "cell_type": "markdown",
   "id": "af460620",
   "metadata": {},
   "source": [
    "# import libraries"
   ]
  },
  {
   "cell_type": "code",
   "execution_count": 1,
   "id": "04b750cb",
   "metadata": {},
   "outputs": [],
   "source": [
    "import torchvision\n",
    "from torchvision.datasets import VisionDataset\n",
    "import torchvision.datasets as dset\n",
    "import torch\n",
    "from torchvision import transforms\n",
    "import os\n",
    "from pathlib import Path\n",
    "import wandb\n",
    "import pytorch_lightning as pl"
   ]
  },
  {
   "cell_type": "markdown",
   "id": "ba186db2",
   "metadata": {},
   "source": [
    "# wandb setting to log"
   ]
  },
  {
   "cell_type": "code",
   "execution_count": 4,
   "id": "fb5349e1",
   "metadata": {},
   "outputs": [
    {
     "name": "stderr",
     "output_type": "stream",
     "text": [
      "\u001b[34m\u001b[1mwandb\u001b[0m: Currently logged in as: \u001b[33mrespwill\u001b[0m. Use \u001b[1m`wandb login --relogin`\u001b[0m to force relogin\n"
     ]
    },
    {
     "data": {
      "text/plain": [
       "True"
      ]
     },
     "execution_count": 4,
     "metadata": {},
     "output_type": "execute_result"
    }
   ],
   "source": [
    "wandb.login()"
   ]
  },
  {
   "cell_type": "code",
   "execution_count": 5,
   "id": "a0a66fa6",
   "metadata": {},
   "outputs": [
    {
     "data": {
      "text/plain": []
     },
     "execution_count": 5,
     "metadata": {},
     "output_type": "execute_result"
    }
   ],
   "source": [
    "wandb.init(\n",
    "  mode='disabled',\n",
    "  # Set the project where this run will be logged\n",
    "  project=\"Monet image gan project\", \n",
    "  # We pass a run name (otherwise it’ll be randomly assigned, like sunshine-lollypop-10)\n",
    "  name=f\"Test0\", \n",
    "  # Track hyperparameters and run metadata\n",
    "  config={\n",
    "      \"learning_rate\": 0.0003,\n",
    "      \"batch_size\":32,\n",
    "      \"latent_dim\":100,\n",
    "      \"b1\":0.5,\n",
    "      \"b2\":0.999,\n",
    "  })"
   ]
  },
  {
   "cell_type": "markdown",
   "id": "36958805",
   "metadata": {},
   "source": [
    "# Load dataset with transform"
   ]
  },
  {
   "cell_type": "code",
   "execution_count": 19,
   "id": "44bfd548",
   "metadata": {},
   "outputs": [
    {
     "ename": "SyntaxError",
     "evalue": "invalid syntax (<ipython-input-19-4055aee1913c>, line 1)",
     "output_type": "error",
     "traceback": [
      "\u001b[1;36m  File \u001b[1;32m\"<ipython-input-19-4055aee1913c>\"\u001b[1;36m, line \u001b[1;32m1\u001b[0m\n\u001b[1;33m    class MonetDataModule(pl.LightningDataModule)\u001b[0m\n\u001b[1;37m                                                 ^\u001b[0m\n\u001b[1;31mSyntaxError\u001b[0m\u001b[1;31m:\u001b[0m invalid syntax\n"
     ]
    }
   ],
   "source": [
    "class MonetDataModule(pl.LightningDataModule):\n",
    "    def __init__(self, data_dir, batch_size):\n",
    "        super().__init__()\n",
    "        self.data_dir = data_dir\n",
    "        self."
   ]
  },
  {
   "cell_type": "code",
   "execution_count": 6,
   "id": "b8793313",
   "metadata": {},
   "outputs": [],
   "source": [
    "transform = transforms.Compose([\n",
    "    transforms.ToTensor(),\n",
    "    transforms.Normalize((0.5,0.5,0.5), (0.5,0.5,0.5))\n",
    "])\n",
    "dataset = dset.ImageFolder('./dataset/gan-getting-started/', transform=transform)"
   ]
  },
  {
   "cell_type": "markdown",
   "id": "3cc31adb",
   "metadata": {},
   "source": [
    "# DataLoader"
   ]
  },
  {
   "cell_type": "code",
   "execution_count": 7,
   "id": "6690662f",
   "metadata": {},
   "outputs": [],
   "source": [
    "dataloader = torch.utils.data.DataLoader(dataset, batch_size=wandb.config['batch_size'], shuffle=True)"
   ]
  },
  {
   "cell_type": "markdown",
   "id": "20894fbd",
   "metadata": {},
   "source": [
    "# Set initial weight of Generator and Discriminator\n",
    "* reference urls: https://pytorch.org/tutorials/beginner/dcgan_faces_tutorial.html"
   ]
  },
  {
   "cell_type": "code",
   "execution_count": 8,
   "id": "a97fc895",
   "metadata": {},
   "outputs": [],
   "source": [
    "def weights_init(m):\n",
    "    classname = m.__class__.__name__\n",
    "    if classname.find('Conv') != -1:\n",
    "        torch.nn.init.normal_(m.weight.data, 0.0, 0.02)\n",
    "    elif classname.find('BatchNorm') != -1:\n",
    "        torch.nn.init.normal_(m.weight.data, 1.0, 0.02)\n",
    "        torch.nn.init.constant_(m.bias.data, 0)"
   ]
  },
  {
   "cell_type": "markdown",
   "id": "f5b4e3dc",
   "metadata": {},
   "source": [
    "# Generator"
   ]
  },
  {
   "cell_type": "code",
   "execution_count": 9,
   "id": "9c3ccc95",
   "metadata": {},
   "outputs": [],
   "source": [
    "class Generator(pl.LightningModule):\n",
    "    def __init__(self, latent_dim, img_shape):\n",
    "        super(Generator, self).__init__()\n",
    "        self.img_shape = img_shape\n",
    "        self.main = torch.nn.Sequential(\n",
    "            torch.nn.Linear(latent_dim, 128),\n",
    "            torch.nn.BatchNorm1d(128, 0.8),\n",
    "            torch.nn.LeakyReLU(0.2, inplace=True),\n",
    "            torch.nn.Linear(128, 256),\n",
    "            torch.nn.BatchNorm1d(256, 0.8),\n",
    "            torch.nn.LeakyReLU(0.2, inplace=True),\n",
    "#             torch.nn.Linear(256, 512),\n",
    "#             torch.nn.BatchNorm1d(512, 0.8),\n",
    "#             torch.nn.LeakyReLU(0.2, inplace=True),\n",
    "#             torch.nn.Linear(512, 1024),\n",
    "#             torch.nn.BatchNorm1d(1024, 0.8),\n",
    "#             torch.nn.LeakyReLU(0.2, inplace=True),\n",
    "            torch.nn.Linear(256, int(np.prod(img_shape))),            \n",
    "            torch.nn.Tanh()\n",
    "        )\n",
    "        \n",
    "    def forward(self, input):\n",
    "        img = self.main(input)\n",
    "        # change shape of tensor from network\n",
    "        # size(0)->batch size?\n",
    "        img = img.view(img.size(0), *self.img_shape)\n",
    "        return img"
   ]
  },
  {
   "cell_type": "code",
   "execution_count": 20,
   "id": "315e5899",
   "metadata": {},
   "outputs": [],
   "source": [
    "# netG = Generator(1, 100, 200, 64)"
   ]
  },
  {
   "cell_type": "code",
   "execution_count": 25,
   "id": "03bff1d5",
   "metadata": {},
   "outputs": [
    {
     "data": {
      "text/plain": [
       "Generator(\n",
       "  (main): Sequential(\n",
       "    (0): ConvTranspose2d(100, 1600, kernel_size=(4, 4), stride=(1, 1), bias=False)\n",
       "    (1): BatchNorm2d(1600, eps=1e-05, momentum=0.1, affine=True, track_running_stats=True)\n",
       "    (2): LeakyReLU(negative_slope=0.01)\n",
       "    (3): ConvTranspose2d(200, 64, kernel_size=(4, 4), stride=(2, 2), padding=(1, 1), bias=False)\n",
       "    (4): Tanh()\n",
       "  )\n",
       ")"
      ]
     },
     "execution_count": 25,
     "metadata": {},
     "output_type": "execute_result"
    }
   ],
   "source": [
    "# netG.apply(weights_init)"
   ]
  },
  {
   "cell_type": "markdown",
   "id": "bacad715",
   "metadata": {},
   "source": [
    "# Discriminator"
   ]
  },
  {
   "cell_type": "code",
   "execution_count": 10,
   "id": "88b4436b",
   "metadata": {},
   "outputs": [],
   "source": [
    "class Discriminator(pl.LightningModule):\n",
    "    def __init__(self, img_shape):\n",
    "        super().__init__()\n",
    "        self.main = torch.nn.Sequential(\n",
    "            torch.nn.Linear(int(np.prod(img_shape)), 512),\n",
    "            torch.nn.LeakyReLU(0.2, inplace=True),\n",
    "            torch.nn.Linear(512, 256),\n",
    "            torch.nn.LeakyReLU(0.2, inplace=True),\n",
    "            torch.nn.Linear(256, 1),\n",
    "            torch.nn.Sigmoid()\n",
    "        )\n",
    "    \n",
    "    def forward(self, img):\n",
    "        img_flat = img.view(img.size(0), -1)\n",
    "        validity = self.main(img_flat)\n",
    "        return validity"
   ]
  },
  {
   "cell_type": "code",
   "execution_count": 39,
   "id": "3fbeb216",
   "metadata": {},
   "outputs": [],
   "source": [
    "# netD = Discriminator(1, 64, 512)"
   ]
  },
  {
   "cell_type": "code",
   "execution_count": 35,
   "id": "6100f213",
   "metadata": {},
   "outputs": [
    {
     "data": {
      "text/plain": [
       "Discriminator(\n",
       "  (main): Sequential(\n",
       "    (0): Conv2d(64, 512, kernel_size=(4, 4), stride=(2, 2), padding=(1, 1), bias=False)\n",
       "    (1): BatchNorm2d(2048, eps=1e-05, momentum=0.1, affine=True, track_running_stats=True)\n",
       "    (2): LeakyReLU(negative_slope=0.01)\n",
       "    (3): Conv2d(4096, 1, kernel_size=(4, 4), stride=(1, 1), bias=False)\n",
       "    (4): Sigmoid()\n",
       "  )\n",
       ")"
      ]
     },
     "execution_count": 35,
     "metadata": {},
     "output_type": "execute_result"
    }
   ],
   "source": [
    "# netD.apply(weights_init)"
   ]
  },
  {
   "cell_type": "markdown",
   "id": "e40f8dc3",
   "metadata": {},
   "source": [
    "# GAN"
   ]
  },
  {
   "cell_type": "code",
   "execution_count": 15,
   "id": "2a77fd0e",
   "metadata": {},
   "outputs": [],
   "source": [
    "class GAN(pl.LightningModule):\n",
    "    def __init__(self, channels, width, height, latent_dim, lr, b1, b2, batch_size):\n",
    "        super().__init__()\n",
    "        self.save_hyperparameters()\n",
    "        self.automatic_optimization = False\n",
    "        \n",
    "        data_shape = (channels, width, height)\n",
    "        self.generator = Generator(latent_dim=self.hparams.latent_dim, \n",
    "                                   img_shape=data_shape)\n",
    "        self.discriminator = Discriminator(img_shape=data_shape)\n",
    "        self.validation_z = torch.randn(8, self.hparams.latent_dim)\n",
    "        self.example_input_array = torch.zeros(2, self.hparams.latent_dim)\n",
    "        \n",
    "    def forward(self, z):\n",
    "        return self.generator(z)\n",
    "    \n",
    "    def adversarial_loss(self, y_hat, y):\n",
    "        return torch.nn.functional.binary_cross_entropy(y_hat, y)\n",
    "    \n",
    "    def training_step(self, batch):\n",
    "        imgs, _ = batch\n",
    "        optimizer_g, optimizer_d = self.optimizers()\n",
    "        \n",
    "        # add noise\n",
    "        z = torch.randn(imgs.shape[0], self.hparams.latent_dim)\n",
    "        z = z.type_as(imgs)\n",
    "        \n",
    "        self.toggle_optimizer(optimizer_g, optimizer_idx=0)\n",
    "        self.generated_imgs = self(z)\n",
    "        \n",
    "        sample_imgs = self.generated_imgs[:6]\n",
    "        grid = torchvision.utils.make_grid(sample_imgs)\n",
    "        self.logger.experiment.add_image(\"generated_images\", grid, 0)\n",
    "        \n",
    "        valid = torch.ones(imgs.size(0), 1)\n",
    "        valid = valid.type_as(imgs)\n",
    "        \n",
    "        g_loss = self.adversarial_loss(self.discriminator(self(z)), valid)\n",
    "        self.log('g_loss', g_loss, prog_bar=True)\n",
    "        self.manual_backward(g_loss)\n",
    "        optimizer_g.step()\n",
    "        optimizer_g.zero_grad()\n",
    "        self.untoggle_optimizer(optimizer_g)\n",
    "        \n",
    "        self.toggle_optimizer(optimizer_d, optimizer_idx=1)\n",
    "        \n",
    "        valid = torch.ones(imgs.size(0), 1)\n",
    "        valid = valid.type_as(imgs)\n",
    "        \n",
    "        real_loss = self.adversarial_loss(self.discriminator(imgs), valid)\n",
    "        \n",
    "        fake = torch.zeros(imgs.size(0), 1)\n",
    "        fake = fake.type_as(imgs)\n",
    "        \n",
    "        fake_loss = self.adversarial_loss(self.discriminator(self(z).detach()), fake)\n",
    "        \n",
    "        d_loss = (real_loss + fake_loss) / 2\n",
    "        self.log('d_loss', d_loss, prog_bar=True)\n",
    "        self.manual_backward(d_loss)\n",
    "        optimizer_d.step()\n",
    "        optimizer_d.zero_grad()\n",
    "        self.untoggle_optimizer(optimizer_d)\n",
    "    \n",
    "    def configure_optimizers(self):\n",
    "        lr = self.hparams.lr\n",
    "        b1 = self.hparams.b1\n",
    "        b2 = self.hparams.b2\n",
    "        opt_g = torch.optim.Adam(self.generator.parameters(), lr=lr, betas=(b1, b2))\n",
    "        opt_d = torch.optim.Adam(self.discriminator.parameters(), lr=lr, betas=(b1, b2))\n",
    "        return [opt_g, opt_d], []\n",
    "    \n",
    "    def on_validation_epoch_end(self):\n",
    "        z = self.validation_z.type_as(self.generator.model[0].weight)\n",
    "        \n",
    "        sample_imgs = self(z)\n",
    "        grid = torchvision.utils.make_grid(sample_imgs)\n",
    "        self.logger.experiment.add_image(\"generated_images\", grid, self.current_epoch)        "
   ]
  },
  {
   "cell_type": "code",
   "execution_count": 16,
   "id": "65aaa149",
   "metadata": {},
   "outputs": [],
   "source": [
    "param = {\"channels\":3,\n",
    "         \"width\":256, \n",
    "         \"height\":256,\n",
    "         \"latent_dim\":wandb.config['latent_dim'],\n",
    "         \"lr\":wandb.config['learning_rate'],\n",
    "         \"b1\":wandb.config['b1'],\n",
    "         \"b2\":wandb.config['b2'],\n",
    "         \"batch_size\":wandb.config['batch_size']}\n",
    "model = GAN(**param)"
   ]
  },
  {
   "cell_type": "code",
   "execution_count": 17,
   "id": "f983a1c4",
   "metadata": {},
   "outputs": [
    {
     "name": "stderr",
     "output_type": "stream",
     "text": [
      "GPU available: True (cuda), used: True\n",
      "TPU available: False, using: 0 TPU cores\n",
      "IPU available: False, using: 0 IPUs\n",
      "HPU available: False, using: 0 HPUs\n"
     ]
    }
   ],
   "source": [
    "trainer = pl.Trainer(\n",
    "    accelerator=\"auto\",\n",
    "    devices=1,\n",
    "    max_epochs=5\n",
    ")"
   ]
  },
  {
   "cell_type": "code",
   "execution_count": 18,
   "id": "421d931b",
   "metadata": {},
   "outputs": [
    {
     "name": "stderr",
     "output_type": "stream",
     "text": [
      "LOCAL_RANK: 0 - CUDA_VISIBLE_DEVICES: [0]\n",
      "\n",
      "  | Name          | Type          | Params | In sizes | Out sizes       \n",
      "------------------------------------------------------------------------------\n",
      "0 | generator     | Generator     | 50.6 M | [2, 100] | [2, 3, 256, 256]\n",
      "1 | discriminator | Discriminator | 100 M  | ?        | ?               \n",
      "------------------------------------------------------------------------------\n",
      "151 M     Trainable params\n",
      "0         Non-trainable params\n",
      "151 M     Total params\n",
      "605.481   Total estimated model params size (MB)\n"
     ]
    },
    {
     "data": {
      "application/vnd.jupyter.widget-view+json": {
       "model_id": "f967fa9656474111af6b55c8c9f2bb5e",
       "version_major": 2,
       "version_minor": 0
      },
      "text/plain": [
       "Training: 0it [00:00, ?it/s]"
      ]
     },
     "metadata": {},
     "output_type": "display_data"
    },
    {
     "name": "stderr",
     "output_type": "stream",
     "text": [
      "C:\\Users\\jaydenpark\\Anaconda3\\envs\\RL\\lib\\site-packages\\pytorch_lightning\\trainer\\call.py:48: UserWarning: Detected KeyboardInterrupt, attempting graceful shutdown...\n",
      "  rank_zero_warn(\"Detected KeyboardInterrupt, attempting graceful shutdown...\")\n"
     ]
    }
   ],
   "source": [
    "trainer.fit(model, dataloader)"
   ]
  }
 ],
 "metadata": {
  "kernelspec": {
   "display_name": "Python 3",
   "language": "python",
   "name": "python3"
  },
  "varInspector": {
   "cols": {
    "lenName": 16,
    "lenType": 16,
    "lenVar": 40
   },
   "kernels_config": {
    "python": {
     "delete_cmd_postfix": "",
     "delete_cmd_prefix": "del ",
     "library": "var_list.py",
     "varRefreshCmd": "print(var_dic_list())"
    },
    "r": {
     "delete_cmd_postfix": ") ",
     "delete_cmd_prefix": "rm(",
     "library": "var_list.r",
     "varRefreshCmd": "cat(var_dic_list()) "
    }
   },
   "types_to_exclude": [
    "module",
    "function",
    "builtin_function_or_method",
    "instance",
    "_Feature"
   ],
   "window_display": false
  }
 },
 "nbformat": 4,
 "nbformat_minor": 5
}
