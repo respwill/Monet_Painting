{
 "cells": [
  {
   "cell_type": "markdown",
   "id": "af460620",
   "metadata": {},
   "source": [
    "# import libraries"
   ]
  },
  {
   "cell_type": "code",
   "execution_count": 1,
   "id": "04b750cb",
   "metadata": {},
   "outputs": [],
   "source": [
    "import torchvision\n",
    "from torchvision.datasets import VisionDataset\n",
    "import torchvision.datasets as dset\n",
    "import torch\n",
    "from torch.utils.data import random_split, Dataset, DataLoader\n",
    "from torchvision import transforms\n",
    "import os\n",
    "from pathlib import Path\n",
    "import wandb\n",
    "import pytorch_lightning as pl\n",
    "import numpy as np\n",
    "from pytorch_lightning.callbacks import ModelCheckpoint\n",
    "from pytorch_lightning.loggers import WandbLogger"
   ]
  },
  {
   "cell_type": "markdown",
   "id": "ba186db2",
   "metadata": {},
   "source": [
    "# wandb setting to log"
   ]
  },
  {
   "cell_type": "code",
   "execution_count": 2,
   "id": "fb5349e1",
   "metadata": {},
   "outputs": [
    {
     "name": "stderr",
     "output_type": "stream",
     "text": [
      "\u001b[34m\u001b[1mwandb\u001b[0m: Currently logged in as: \u001b[33mrespwill\u001b[0m. Use \u001b[1m`wandb login --relogin`\u001b[0m to force relogin\n"
     ]
    },
    {
     "data": {
      "text/plain": [
       "True"
      ]
     },
     "execution_count": 2,
     "metadata": {},
     "output_type": "execute_result"
    }
   ],
   "source": [
    "wandb.login()"
   ]
  },
  {
   "cell_type": "code",
   "execution_count": 3,
   "id": "a0a66fa6",
   "metadata": {
    "scrolled": true
   },
   "outputs": [
    {
     "data": {
      "text/html": [
       "wandb version 0.14.0 is available!  To upgrade, please run:\n",
       " $ pip install wandb --upgrade"
      ],
      "text/plain": [
       "<IPython.core.display.HTML object>"
      ]
     },
     "metadata": {},
     "output_type": "display_data"
    },
    {
     "data": {
      "text/html": [
       "Tracking run with wandb version 0.12.20"
      ],
      "text/plain": [
       "<IPython.core.display.HTML object>"
      ]
     },
     "metadata": {},
     "output_type": "display_data"
    },
    {
     "data": {
      "text/html": [
       "Run data is saved locally in <code>C:\\Users\\jaydenpark\\Documents\\GitHub\\Monet_Painting\\wandb\\run-20230323_110733-8zlc8slj</code>"
      ],
      "text/plain": [
       "<IPython.core.display.HTML object>"
      ]
     },
     "metadata": {},
     "output_type": "display_data"
    },
    {
     "data": {
      "text/html": [
       "Syncing run <strong><a href=\"https://wandb.ai/respwill/Monet%20image%20gan%20project/runs/8zlc8slj\" target=\"_blank\">Test13</a></strong> to <a href=\"https://wandb.ai/respwill/Monet%20image%20gan%20project\" target=\"_blank\">Weights & Biases</a> (<a href=\"https://wandb.me/run\" target=\"_blank\">docs</a>)<br/>"
      ],
      "text/plain": [
       "<IPython.core.display.HTML object>"
      ]
     },
     "metadata": {},
     "output_type": "display_data"
    },
    {
     "name": "stderr",
     "output_type": "stream",
     "text": [
      "C:\\Users\\jaydenpark\\Anaconda3\\envs\\nlp3\\lib\\site-packages\\pytorch_lightning\\loggers\\wandb.py:347: UserWarning: There is a wandb run already in progress and newly created instances of `WandbLogger` will reuse this run. If this is not desired, call `wandb.finish()` before instantiating `WandbLogger`.\n",
      "  rank_zero_warn(\n"
     ]
    }
   ],
   "source": [
    "wandb.init(\n",
    "#   mode='disabled',\n",
    "  # Set the project where this run will be logged\n",
    "  project=\"Monet image gan project\", \n",
    "  # We pass a run name (otherwise it’ll be randomly assigned, like sunshine-lollypop-10)\n",
    "  name=\"Test13\", \n",
    "  # Track hyperparameters and run metadata\n",
    "  config={\n",
    "      \"learning_rate\": 0.0004,\n",
    "      \"batch_size\":32,\n",
    "      \"latent_dim\":100,\n",
    "      \"b1\":0.5,\n",
    "      \"b2\":0.999,\n",
    "  })\n",
    "wandb_logger = WandbLogger()"
   ]
  },
  {
   "cell_type": "markdown",
   "id": "36958805",
   "metadata": {},
   "source": [
    "# Load dataset with transform"
   ]
  },
  {
   "cell_type": "code",
   "execution_count": 4,
   "id": "44bfd548",
   "metadata": {},
   "outputs": [],
   "source": [
    "class MonetDataModule(pl.LightningDataModule):\n",
    "    def __init__(self, data_dir1, data_dir2, batch_size, transform=None):\n",
    "        super().__init__()\n",
    "        self.data_dir_monet = data_dir1\n",
    "        self.data_dir_photo = data_dir2\n",
    "        self.batch_size = batch_size\n",
    "        if transform == None:\n",
    "            self.transform = transforms.Compose([\n",
    "                transforms.ToTensor()\n",
    "            ])\n",
    "        else:\n",
    "            self.transform = transforms.Compose([\n",
    "                transforms.ToTensor(),\n",
    "                transforms.Normalize((0.5,0.5,0.5), (0.5,0.5,0.5))\n",
    "            ])\n",
    "    \n",
    "    def setup(self, stage):\n",
    "#         print(stage)\n",
    "        self.dataset = dset.ImageFolder('./dataset/gan-getting-started/monet/', transform=self.transform)\n",
    "#         self.dataset_train, self.dataset_val = random_split(dataset, [int(len(dataset)*0.9), int(len(dataset)*0.1)])\n",
    "    \n",
    "    def train_dataloader(self):\n",
    "        return torch.utils.data.DataLoader(self.dataset, batch_size=self.batch_size, shuffle=True)\n",
    "    \n",
    "#     def val_dataloader(self):\n",
    "#         return torch.utils.data.DataLoader(self.dataset_val, batch_size=self.batch_size)"
   ]
  },
  {
   "cell_type": "code",
   "execution_count": 5,
   "id": "016b5a09",
   "metadata": {},
   "outputs": [],
   "source": [
    "dm = MonetDataModule('./dataset/gan-getting-started/monet_jpg/','./dataset/gan-getting-started/photo_jpg/', wandb.config['batch_size'], transform=True)"
   ]
  },
  {
   "cell_type": "markdown",
   "id": "20894fbd",
   "metadata": {},
   "source": [
    "# Set initial weight of Generator and Discriminator\n",
    "* reference urls: https://pytorch.org/tutorials/beginner/dcgan_faces_tutorial.html"
   ]
  },
  {
   "cell_type": "code",
   "execution_count": 6,
   "id": "a97fc895",
   "metadata": {},
   "outputs": [],
   "source": [
    "def weights_init(m):\n",
    "    classname = m.__class__.__name__\n",
    "    if classname.find('Conv') != -1:\n",
    "        torch.nn.init.normal_(m.weight.data, 0.0, 0.02)\n",
    "    elif classname.find('BatchNorm') != -1:\n",
    "        torch.nn.init.normal_(m.weight.data, 1.0, 0.02)\n",
    "        torch.nn.init.constant_(m.bias.data, 0)"
   ]
  },
  {
   "cell_type": "markdown",
   "id": "f5b4e3dc",
   "metadata": {},
   "source": [
    "# Generator"
   ]
  },
  {
   "cell_type": "code",
   "execution_count": 7,
   "id": "9c3ccc95",
   "metadata": {},
   "outputs": [],
   "source": [
    "class Generator(pl.LightningModule):\n",
    "    def __init__(self, latent_dim, img_shape):\n",
    "        super(Generator, self).__init__()\n",
    "        self.img_shape = img_shape\n",
    "        self.main = torch.nn.Sequential(\n",
    "            torch.nn.Linear(latent_dim, 128),\n",
    "            torch.nn.BatchNorm1d(128),\n",
    "            torch.nn.ReLU(),\n",
    "            torch.nn.Dropout(0.3),\n",
    "            torch.nn.Linear(128, 256),\n",
    "            torch.nn.BatchNorm1d(256),\n",
    "            torch.nn.ReLU(),\n",
    "            torch.nn.Dropout(0.3),\n",
    "            torch.nn.Linear(256, 512),\n",
    "            torch.nn.BatchNorm1d(512),\n",
    "            torch.nn.ReLU(),\n",
    "            torch.nn.Dropout(0.3),\n",
    "            torch.nn.Linear(512, 1024),\n",
    "            torch.nn.BatchNorm1d(1024, 0.8),\n",
    "            torch.nn.ReLU(),\n",
    "            torch.nn.Linear(1024, int(np.prod(img_shape))),            \n",
    "            torch.nn.Tanh()\n",
    "        )\n",
    "        \n",
    "    def forward(self, input):\n",
    "        img = self.main(input)\n",
    "        # change shape of tensor from network\n",
    "        # size(0)->batch size?\n",
    "        img = img.view(img.size(0), *self.img_shape)\n",
    "        return img"
   ]
  },
  {
   "cell_type": "markdown",
   "id": "bacad715",
   "metadata": {},
   "source": [
    "# Discriminator"
   ]
  },
  {
   "cell_type": "code",
   "execution_count": 8,
   "id": "88b4436b",
   "metadata": {},
   "outputs": [],
   "source": [
    "class Discriminator(pl.LightningModule):\n",
    "    def __init__(self, img_shape):\n",
    "        super().__init__()\n",
    "        self.main = torch.nn.Sequential(\n",
    "            torch.nn.Linear(int(np.prod(img_shape)), 512),\n",
    "            torch.nn.LeakyReLU(0.2, inplace=True),\n",
    "            torch.nn.Linear(512, 256),\n",
    "            torch.nn.LeakyReLU(0.2, inplace=True),\n",
    "            torch.nn.Linear(256, 1),\n",
    "            torch.nn.Sigmoid()\n",
    "        )\n",
    "    \n",
    "    def forward(self, img):\n",
    "        img_flat = img.view(img.size(0), -1)\n",
    "        validity = self.main(img_flat)\n",
    "        return validity"
   ]
  },
  {
   "cell_type": "markdown",
   "id": "e40f8dc3",
   "metadata": {},
   "source": [
    "# GAN"
   ]
  },
  {
   "cell_type": "code",
   "execution_count": 9,
   "id": "2a77fd0e",
   "metadata": {},
   "outputs": [],
   "source": [
    "class GAN(pl.LightningModule):\n",
    "    def __init__(self, channels, width, height, latent_dim, lr, b1, b2, batch_size):\n",
    "        super().__init__()\n",
    "        self.save_hyperparameters()\n",
    "        self.automatic_optimization = False\n",
    "        \n",
    "        data_shape = (channels, width, height)\n",
    "        self.generator = Generator(latent_dim=self.hparams.latent_dim, \n",
    "                                   img_shape=data_shape)\n",
    "        self.discriminator = Discriminator(img_shape=data_shape)\n",
    "        self.validation_z = torch.randn(8, self.hparams.latent_dim)\n",
    "        self.example_input_array = torch.zeros(2, self.hparams.latent_dim)\n",
    "        \n",
    "    def forward(self, z):\n",
    "        return self.generator(z)\n",
    "    \n",
    "    def adversarial_loss(self, y_hat, y):\n",
    "        return torch.nn.functional.binary_cross_entropy(y_hat, y)\n",
    "    \n",
    "    def training_step(self, batch):\n",
    "        # \n",
    "        imgs, _ = batch\n",
    "#         print(imgs)\n",
    "        optimizer_g, optimizer_d = self.optimizers()\n",
    "        \n",
    "        # add noise: crate random number..?\n",
    "        z = torch.randn(imgs.shape[0], self.hparams.latent_dim)\n",
    "        z = z.type_as(imgs)\n",
    "        \n",
    "        # train generator\n",
    "        self.toggle_optimizer(optimizer_g, optimizer_idx=0)\n",
    "        self.generated_imgs = self(z)\n",
    "        # get 6 samples from generated images\n",
    "#         sample_imgs = self.generated_imgs[:3]\n",
    "        # make flattened data into grid shape to see as image\n",
    "#         grid = torchvision.utils.make_grid(sample_imgs)\n",
    "#         self.logger.log_image(\"generated_images\", [grid])\n",
    "        \n",
    "        valid = torch.ones(imgs.size(0), 1)\n",
    "        valid = valid.type_as(imgs)\n",
    "        \n",
    "        # binary cross-entropy\n",
    "        # if generator created images well so that discriminator recognize the results as real(1), loss decrease.\n",
    "        g_loss = self.adversarial_loss(self.discriminator(self(z)), valid)\n",
    "        self.log('g_loss', g_loss, prog_bar=True, on_epoch=True)\n",
    "        self.manual_backward(g_loss)\n",
    "        optimizer_g.step()\n",
    "        optimizer_g.zero_grad()\n",
    "        # stop generator training\n",
    "        self.untoggle_optimizer(optimizer_g)\n",
    "        \n",
    "        # train discriminator\n",
    "        self.toggle_optimizer(optimizer_d, optimizer_idx=1)\n",
    "        \n",
    "        # check if discriminator can recognize real images as real\n",
    "        # low loss means discriminator recognize real images well.\n",
    "        valid = torch.ones(imgs.size(0), 1)\n",
    "        valid = valid.type_as(imgs)\n",
    "        real_loss = self.adversarial_loss(self.discriminator(imgs), valid)\n",
    "        \n",
    "        # check if discriminator can recognize fake images as fake\n",
    "        # low loss means discriminator recognize fake images.\n",
    "        fake = torch.zeros(imgs.size(0), 1)\n",
    "        fake = fake.type_as(imgs)\n",
    "        fake_loss = self.adversarial_loss(self.discriminator(self(z).detach()), fake)\n",
    "        \n",
    "        # overall loss is average of these two loss.\n",
    "        d_loss = (real_loss + fake_loss) / 2\n",
    "        # low d_loss means discriminator recognize images well.\n",
    "        self.log('d_loss', d_loss, prog_bar=True, on_epoch=True)\n",
    "        self.manual_backward(d_loss)\n",
    "        optimizer_d.step()\n",
    "        optimizer_d.zero_grad()\n",
    "        \n",
    "        # stop discriminator training.\n",
    "        self.untoggle_optimizer(optimizer_d)\n",
    "    \n",
    "    def configure_optimizers(self):\n",
    "        lr = self.hparams.lr\n",
    "        b1 = self.hparams.b1\n",
    "        b2 = self.hparams.b2\n",
    "        opt_g = torch.optim.Adam(self.generator.parameters(), lr=lr, betas=(b1, b2))\n",
    "        opt_d = torch.optim.Adam(self.discriminator.parameters(), lr=lr, betas=(b1, b2))\n",
    "        return [opt_g, opt_d], []\n",
    "    \n",
    "    def validation_step(self, *args):\n",
    "        pass\n",
    "    \n",
    "    def on_training_epoch_end(self):\n",
    "#     def validation_step(self):\n",
    "#         print(\"it is the end of validation epoch\")\n",
    "        z = self.validation_z.type_as(self.generator.main[0].weight)\n",
    "        \n",
    "        sample_imgs = self(z)\n",
    "        grid = torchvision.utils.make_grid(sample_imgs)\n",
    "#         grid = wandb.Image(grid)\n",
    "#         self.logger.experiment.add_image(\"generated_images\", grid, self.current_epoch)        \n",
    "        self.logger.log_image(\"generated_images\", [grid])"
   ]
  },
  {
   "cell_type": "code",
   "execution_count": 10,
   "id": "65aaa149",
   "metadata": {},
   "outputs": [],
   "source": [
    "param = {\"channels\":3,\n",
    "         \"width\":256, \n",
    "         \"height\":256,\n",
    "         \"latent_dim\":wandb.config['latent_dim'],\n",
    "         \"lr\":wandb.config['learning_rate'],\n",
    "         \"b1\":wandb.config['b1'],\n",
    "         \"b2\":wandb.config['b2'],\n",
    "         \"batch_size\":wandb.config['batch_size']}\n",
    "model = GAN(**param)"
   ]
  },
  {
   "cell_type": "code",
   "execution_count": null,
   "id": "413cab41",
   "metadata": {},
   "outputs": [],
   "source": [
    "checkpoint_callback = pl.callbacks.ModelCheckpoint(\n",
    "    dirpath='./check_point/', \n",
    "    filename='{epoch}-{loss:.4f}', \n",
    "    monitor=\"loss\", \n",
    "    mode=\"min\", \n",
    "    save_top_k=2\n",
    ")"
   ]
  },
  {
   "cell_type": "code",
   "execution_count": 11,
   "id": "f983a1c4",
   "metadata": {},
   "outputs": [
    {
     "name": "stderr",
     "output_type": "stream",
     "text": [
      "GPU available: True, used: True\n",
      "TPU available: False, using: 0 TPU cores\n",
      "IPU available: False, using: 0 IPUs\n",
      "HPU available: False, using: 0 HPUs\n"
     ]
    }
   ],
   "source": [
    "trainer = pl.Trainer(\n",
    "    accelerator=\"auto\",\n",
    "    devices=1,\n",
    "    max_epochs=1000,\n",
    "    log_every_n_steps=27,\n",
    "    logger=wandb_logger,\n",
    "    callbacks=[checkpoint_callback]\n",
    ")"
   ]
  },
  {
   "cell_type": "code",
   "execution_count": null,
   "id": "421d931b",
   "metadata": {
    "scrolled": false
   },
   "outputs": [
    {
     "name": "stderr",
     "output_type": "stream",
     "text": [
      "C:\\Users\\jaydenpark\\Anaconda3\\envs\\nlp3\\lib\\site-packages\\pytorch_lightning\\trainer\\configuration_validator.py:133: UserWarning: You defined a `validation_step` but have no `val_dataloader`. Skipping val loop.\n",
      "  rank_zero_warn(\"You defined a `validation_step` but have no `val_dataloader`. Skipping val loop.\")\n",
      "LOCAL_RANK: 0 - CUDA_VISIBLE_DEVICES: [0,1]\n",
      "\n",
      "  | Name          | Type          | Params | In sizes | Out sizes       \n",
      "------------------------------------------------------------------------------\n",
      "0 | generator     | Generator     | 202 M  | [2, 100] | [2, 3, 256, 256]\n",
      "1 | discriminator | Discriminator | 100 M  | ?        | ?               \n",
      "------------------------------------------------------------------------------\n",
      "303 M     Trainable params\n",
      "0         Non-trainable params\n",
      "303 M     Total params\n",
      "1,212.101 Total estimated model params size (MB)\n",
      "C:\\Users\\jaydenpark\\Anaconda3\\envs\\nlp3\\lib\\site-packages\\pytorch_lightning\\trainer\\connectors\\data_connector.py:240: PossibleUserWarning: The dataloader, train_dataloader, does not have many workers which may be a bottleneck. Consider increasing the value of the `num_workers` argument` (try 24 which is the number of cpus on this machine) in the `DataLoader` init to improve performance.\n",
      "  rank_zero_warn(\n",
      "C:\\Users\\jaydenpark\\Anaconda3\\envs\\nlp3\\lib\\site-packages\\pytorch_lightning\\trainer\\trainer.py:1933: PossibleUserWarning: The number of training batches (10) is smaller than the logging interval Trainer(log_every_n_steps=27). Set a lower value for log_every_n_steps if you want to see logs for the training epoch.\n",
      "  rank_zero_warn(\n"
     ]
    },
    {
     "data": {
      "application/vnd.jupyter.widget-view+json": {
       "model_id": "e886a08d6faa4f4ebf0b6baea90c6a6f",
       "version_major": 2,
       "version_minor": 0
      },
      "text/plain": [
       "Training: 0it [00:00, ?it/s]"
      ]
     },
     "metadata": {},
     "output_type": "display_data"
    }
   ],
   "source": [
    "trainer.fit(model, dm)"
   ]
  }
 ],
 "metadata": {
  "kernelspec": {
   "display_name": "Python 3 (ipykernel)",
   "language": "python",
   "name": "python3"
  },
  "language_info": {
   "codemirror_mode": {
    "name": "ipython",
    "version": 3
   },
   "file_extension": ".py",
   "mimetype": "text/x-python",
   "name": "python",
   "nbconvert_exporter": "python",
   "pygments_lexer": "ipython3",
   "version": "3.9.12"
  },
  "varInspector": {
   "cols": {
    "lenName": 16,
    "lenType": 16,
    "lenVar": 40
   },
   "kernels_config": {
    "python": {
     "delete_cmd_postfix": "",
     "delete_cmd_prefix": "del ",
     "library": "var_list.py",
     "varRefreshCmd": "print(var_dic_list())"
    },
    "r": {
     "delete_cmd_postfix": ") ",
     "delete_cmd_prefix": "rm(",
     "library": "var_list.r",
     "varRefreshCmd": "cat(var_dic_list()) "
    }
   },
   "types_to_exclude": [
    "module",
    "function",
    "builtin_function_or_method",
    "instance",
    "_Feature"
   ],
   "window_display": false
  }
 },
 "nbformat": 4,
 "nbformat_minor": 5
}
