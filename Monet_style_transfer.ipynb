{
 "cells": [
  {
   "cell_type": "markdown",
   "id": "6c0bfac4",
   "metadata": {},
   "source": [
    "# Load packages"
   ]
  },
  {
   "cell_type": "code",
   "execution_count": 1,
   "id": "e0313db4",
   "metadata": {},
   "outputs": [],
   "source": [
    "import torch\n",
    "import torch.nn as nn\n",
    "import torch.optim as optim\n",
    "import torchvision.transforms as transforms\n",
    "import torchvision.models as models\n",
    "import torchvision.datasets as dset\n",
    "from torch.utils.data import Dataset, DataLoader, Subset\n",
    "from PIL import Image"
   ]
  },
  {
   "cell_type": "code",
   "execution_count": 2,
   "id": "9fe06299",
   "metadata": {},
   "outputs": [],
   "source": [
    "device = torch.device('cuda')"
   ]
  },
  {
   "cell_type": "markdown",
   "id": "c0b6cba0",
   "metadata": {},
   "source": [
    "# Load image data"
   ]
  },
  {
   "cell_type": "markdown",
   "id": "4da62f21",
   "metadata": {},
   "source": [
    "## Dataset with transform"
   ]
  },
  {
   "cell_type": "code",
   "execution_count": 3,
   "id": "895ecb73",
   "metadata": {},
   "outputs": [],
   "source": [
    "transform_normalize = transforms.Compose([\n",
    "            transforms.ToTensor(),\n",
    "            transforms.Normalize((0.485, 0.456, 0.406), (0.229, 0.224, 0.225))\n",
    "        ])"
   ]
  },
  {
   "cell_type": "code",
   "execution_count": 4,
   "id": "1d505e23",
   "metadata": {},
   "outputs": [],
   "source": [
    "transform_tensor = transforms.ToTensor()"
   ]
  },
  {
   "cell_type": "code",
   "execution_count": 5,
   "id": "32bc6edc",
   "metadata": {},
   "outputs": [],
   "source": [
    "style_data = Subset(dset.ImageFolder(\"./dataset/gan-getting-started/monet/\", transform_normalize), range(150))\n",
    "content_data = Subset(dset.ImageFolder(\"./dataset/gan-getting-started/photo/\", transform_normalize), range(1))\n",
    "# target_data = Subset(dset.ImageFolder(\"./dataset/gan-getting-started/photo/\", transform_tensor), range(1))"
   ]
  },
  {
   "cell_type": "code",
   "execution_count": 6,
   "id": "c31ffb28",
   "metadata": {},
   "outputs": [],
   "source": [
    "def normalize_image(image):\n",
    "    mean = torch.tensor([0.485, 0.456, 0.406]).to(device)\n",
    "    std = torch.tensor([0.229, 0.224, 0.225]).to(device)\n",
    "    image = (image - mean[:, None, None]) / std[:, None, None]\n",
    "    return image"
   ]
  },
  {
   "cell_type": "code",
   "execution_count": 7,
   "id": "4830dfcc",
   "metadata": {},
   "outputs": [],
   "source": [
    "target = content_data[0][0].clone().requires_grad_(True)\n"
   ]
  },
  {
   "cell_type": "markdown",
   "id": "86c10529",
   "metadata": {},
   "source": [
    "## DataLoader"
   ]
  },
  {
   "cell_type": "code",
   "execution_count": 8,
   "id": "d3e700e5",
   "metadata": {},
   "outputs": [],
   "source": [
    "style_loader = DataLoader(style_data)\n",
    "content_loader = DataLoader(content_data)"
   ]
  },
  {
   "cell_type": "markdown",
   "id": "f2e12f2e",
   "metadata": {},
   "source": [
    "# Load VGG model"
   ]
  },
  {
   "cell_type": "code",
   "execution_count": 9,
   "id": "52d12d17",
   "metadata": {},
   "outputs": [
    {
     "name": "stderr",
     "output_type": "stream",
     "text": [
      "C:\\Users\\jaydenpark\\Anaconda3\\envs\\nlp3\\lib\\site-packages\\torchvision\\models\\_utils.py:208: UserWarning: The parameter 'pretrained' is deprecated since 0.13 and may be removed in the future, please use 'weights' instead.\n",
      "  warnings.warn(\n",
      "C:\\Users\\jaydenpark\\Anaconda3\\envs\\nlp3\\lib\\site-packages\\torchvision\\models\\_utils.py:223: UserWarning: Arguments other than a weight enum or `None` for 'weights' are deprecated since 0.13 and may be removed in the future. The current behavior is equivalent to passing `weights=VGG19_Weights.IMAGENET1K_V1`. You can also use `weights=VGG19_Weights.DEFAULT` to get the most up-to-date weights.\n",
      "  warnings.warn(msg)\n"
     ]
    }
   ],
   "source": [
    "vgg = models.vgg19(pretrained=True).features.to(device).eval()"
   ]
  },
  {
   "cell_type": "code",
   "execution_count": 10,
   "id": "2656dc77",
   "metadata": {},
   "outputs": [],
   "source": [
    "def gram_matrix(tensor):\n",
    "    # batch, channel, height, width\n",
    "    try:\n",
    "        _, c, h, w = tensor.size()\n",
    "    except:\n",
    "        c, h, w = tensor.size()\n",
    "    # squeeze batch dimension and change shape of tensor to dense\n",
    "    tensor = tensor.view(c, h * w)\n",
    "    # matrix multiplication\n",
    "    # => channel by channel\n",
    "    gram = torch.mm(tensor, tensor.t())\n",
    "    return gram"
   ]
  },
  {
   "cell_type": "code",
   "execution_count": 11,
   "id": "b8b57b18",
   "metadata": {},
   "outputs": [],
   "source": [
    "# get feature of image using pre-trained model\n",
    "def get_style_features(style_loader, model):\n",
    "    layers = {\n",
    "        '0':'conv1_1',\n",
    "#         '5':'conv2_1',\n",
    "#         '10':'conv3_1',\n",
    "#         '19':'conv4_1',\n",
    "#         '28':'conv5_1',\n",
    "    }\n",
    "    style_features = {}\n",
    "    for i, (x, _) in enumerate(style_loader):\n",
    "        x = x.to(device)\n",
    "        style_features[f'style_{i}'] = {}\n",
    "        for name, layer in model._modules.items():\n",
    "            x = layer(x)\n",
    "            if name in layers:\n",
    "#                 style_gram = gram_matrix(x)\n",
    "                style_features[f'style_{i}'][layers[name]] = x\n",
    "    return style_features"
   ]
  },
  {
   "cell_type": "code",
   "execution_count": 12,
   "id": "c1d73ba7",
   "metadata": {},
   "outputs": [],
   "source": [
    "style_features = get_style_features(style_loader, vgg)"
   ]
  },
  {
   "cell_type": "code",
   "execution_count": 13,
   "id": "37eaf32a",
   "metadata": {},
   "outputs": [],
   "source": [
    "def get_content_features(content_loader, model):\n",
    "    layers = {\n",
    "        '0':'conv1_1',\n",
    "#         '5':'conv2_1',\n",
    "#         '10':'conv3_1',\n",
    "#         '19':'conv4_1',\n",
    "#         '28':'conv5_1',\n",
    "    }\n",
    "    content_features = {}\n",
    "    for i, (x, _) in enumerate(content_loader):\n",
    "        x = x.to(device)\n",
    "        content_features[f'content_{i}'] = {}\n",
    "        for name, layer in model._modules.items():\n",
    "            x = layer(x)\n",
    "            if name in layers:\n",
    "#                 content_gram = gram_matrix(x)\n",
    "                content_features[f'content_{i}'][layers[name]] = x\n",
    "    return content_features"
   ]
  },
  {
   "cell_type": "code",
   "execution_count": 14,
   "id": "31787de3",
   "metadata": {},
   "outputs": [],
   "source": [
    "content_features = get_content_features(content_loader, vgg)"
   ]
  },
  {
   "cell_type": "code",
   "execution_count": 15,
   "id": "1d2d3da2",
   "metadata": {},
   "outputs": [],
   "source": [
    "def get_target_features(target, model):\n",
    "    target = target.to(device)\n",
    "    target = normalize_image(target)\n",
    "    layers = {\n",
    "        '0':'conv1_1',\n",
    "#         '5':'conv2_1',\n",
    "#         '10':'conv3_1',\n",
    "#         '19':'conv4_1',\n",
    "#         '28':'conv5_1',\n",
    "    }\n",
    "    target_features = {}\n",
    "    for name, layer in model._modules.items():\n",
    "        target = layer(target)\n",
    "        if name in layers:\n",
    "#             target_gram = gram_matrix(target)\n",
    "            target_features[layers[name]] = target\n",
    "    \n",
    "    return target_features"
   ]
  },
  {
   "cell_type": "code",
   "execution_count": 16,
   "id": "b62cf1dd",
   "metadata": {},
   "outputs": [],
   "source": [
    "target_features = get_target_features(target, vgg)"
   ]
  },
  {
   "cell_type": "markdown",
   "id": "fc81dde0",
   "metadata": {},
   "source": [
    "# Training"
   ]
  },
  {
   "cell_type": "code",
   "execution_count": 17,
   "id": "d085f741",
   "metadata": {},
   "outputs": [],
   "source": [
    "steps = 1000\n",
    "content_weight = 1\n",
    "style_weight = 100000\n",
    "optimizer = optim.Adam([target], lr=0.01)"
   ]
  },
  {
   "cell_type": "code",
   "execution_count": 18,
   "id": "e8be25cc",
   "metadata": {},
   "outputs": [
    {
     "ename": "KeyboardInterrupt",
     "evalue": "",
     "output_type": "error",
     "traceback": [
      "\u001b[1;31m---------------------------------------------------------------------------\u001b[0m",
      "\u001b[1;31mKeyboardInterrupt\u001b[0m                         Traceback (most recent call last)",
      "Input \u001b[1;32mIn [18]\u001b[0m, in \u001b[0;36m<cell line: 1>\u001b[1;34m()\u001b[0m\n\u001b[0;32m      9\u001b[0m             style_feature \u001b[38;5;241m=\u001b[39m style_features[\u001b[38;5;124mf\u001b[39m\u001b[38;5;124m'\u001b[39m\u001b[38;5;124mstyle_\u001b[39m\u001b[38;5;132;01m{\u001b[39;00mi\u001b[38;5;132;01m}\u001b[39;00m\u001b[38;5;124m'\u001b[39m][\u001b[38;5;124m'\u001b[39m\u001b[38;5;124mconv1_1\u001b[39m\u001b[38;5;124m'\u001b[39m]\n\u001b[0;32m     10\u001b[0m \u001b[38;5;66;03m#             style_feature.to(device)\u001b[39;00m\n\u001b[1;32m---> 11\u001b[0m             style_gram \u001b[38;5;241m=\u001b[39m \u001b[43mgram_matrix\u001b[49m\u001b[43m(\u001b[49m\u001b[43mstyle_feature\u001b[49m\u001b[43m)\u001b[49m\n\u001b[0;32m     12\u001b[0m             layer_loss \u001b[38;5;241m=\u001b[39m torch\u001b[38;5;241m.\u001b[39mmean((target_gram \u001b[38;5;241m-\u001b[39m style_gram)\u001b[38;5;241m*\u001b[39m\u001b[38;5;241m*\u001b[39m\u001b[38;5;241m2\u001b[39m)\n\u001b[0;32m     13\u001b[0m             style_loss \u001b[38;5;241m+\u001b[39m\u001b[38;5;241m=\u001b[39m layer_loss\n",
      "Input \u001b[1;32mIn [10]\u001b[0m, in \u001b[0;36mgram_matrix\u001b[1;34m(tensor)\u001b[0m\n\u001b[0;32m      8\u001b[0m tensor \u001b[38;5;241m=\u001b[39m tensor\u001b[38;5;241m.\u001b[39mview(c, h \u001b[38;5;241m*\u001b[39m w)\n\u001b[0;32m      9\u001b[0m \u001b[38;5;66;03m# matrix multiplication\u001b[39;00m\n\u001b[0;32m     10\u001b[0m \u001b[38;5;66;03m# => channel by channel\u001b[39;00m\n\u001b[1;32m---> 11\u001b[0m gram \u001b[38;5;241m=\u001b[39m \u001b[43mtorch\u001b[49m\u001b[38;5;241;43m.\u001b[39;49m\u001b[43mmm\u001b[49m\u001b[43m(\u001b[49m\u001b[43mtensor\u001b[49m\u001b[43m,\u001b[49m\u001b[43m \u001b[49m\u001b[43mtensor\u001b[49m\u001b[38;5;241;43m.\u001b[39;49m\u001b[43mt\u001b[49m\u001b[43m(\u001b[49m\u001b[43m)\u001b[49m\u001b[43m)\u001b[49m\n\u001b[0;32m     12\u001b[0m \u001b[38;5;28;01mreturn\u001b[39;00m gram\n",
      "\u001b[1;31mKeyboardInterrupt\u001b[0m: "
     ]
    }
   ],
   "source": [
    "for i in tqdm(range(1000)):\n",
    "    content_loss = torch.mean((target_features['conv1_1'] - content_features['content_0']['conv1_1'])**2)\n",
    "    style_loss = 0\n",
    "    for i in range(150):\n",
    "        for s in style_features:\n",
    "            target_feature = target_features['conv1_1']\n",
    "#             target_feature.to(device)\n",
    "            target_gram = gram_matrix(target_feature)\n",
    "            style_feature = style_features[f'style_{i}']['conv1_1']\n",
    "#             style_feature.to(device)\n",
    "            style_gram = gram_matrix(style_feature)\n",
    "            layer_loss = torch.mean((target_gram - style_gram)**2)\n",
    "            style_loss += layer_loss\n",
    "\n",
    "    total_style_loss = style_weight * style_loss / 150\n",
    "    total_loss = content_weight * content_loss + style_weight * total_style_loss\n",
    "    optimizer.zero_grad()\n",
    "    total_loss.backward(retain_graph=True)\n",
    "    optimizer.step()\n",
    "    if i % 100 == 0:\n",
    "        print(\"Step [{}/{}], Total Loss: {:.4f}, Content Loss: {:.4f}, Style Loss: {:.4f}\"\n",
    "              .format(i + 1, steps, total_loss.item(), content_loss.item(), style_loss.item()))\n",
    "        output = target.detach().clone().cpu()\n",
    "        output = output.squeeze(0)\n",
    "        output = transforms.ToPILImage()(output)\n",
    "        output.save(\"output/output-{}.jpg\".format(i))"
   ]
  },
  {
   "cell_type": "code",
   "execution_count": null,
   "id": "297989a0",
   "metadata": {},
   "outputs": [],
   "source": []
  }
 ],
 "metadata": {
  "kernelspec": {
   "display_name": "Python 3 (ipykernel)",
   "language": "python",
   "name": "python3"
  },
  "language_info": {
   "codemirror_mode": {
    "name": "ipython",
    "version": 3
   },
   "file_extension": ".py",
   "mimetype": "text/x-python",
   "name": "python",
   "nbconvert_exporter": "python",
   "pygments_lexer": "ipython3",
   "version": "3.9.12"
  }
 },
 "nbformat": 4,
 "nbformat_minor": 5
}
